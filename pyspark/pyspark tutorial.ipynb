{
 "cells": [
  {
   "cell_type": "code",
   "execution_count": 1,
   "metadata": {},
   "outputs": [],
   "source": [
    "from pyspark import SparkContext\n",
    "from pyspark.sql.session import SparkSession\n",
    "sc = SparkContext('local')\n",
    "spark = SparkSession(sc)\n",
    "\n",
    "df = spark.read.csv('data/pluto_19v1.csv', inferSchema ='True', header = 'True')"
   ]
  },
  {
   "cell_type": "code",
   "execution_count": 6,
   "metadata": {},
   "outputs": [
    {
     "name": "stdout",
     "output_type": "stream",
     "text": [
      "root\n",
      " |-- borough: string (nullable = true)\n",
      " |-- block: integer (nullable = true)\n",
      " |-- lot: integer (nullable = true)\n",
      " |-- cd: integer (nullable = true)\n",
      " |-- ct2010: double (nullable = true)\n",
      " |-- cb2010: integer (nullable = true)\n",
      " |-- schooldist: integer (nullable = true)\n",
      " |-- council: integer (nullable = true)\n",
      " |-- zipcode: integer (nullable = true)\n",
      " |-- firecomp: string (nullable = true)\n",
      " |-- policeprct: integer (nullable = true)\n",
      " |-- healtharea: integer (nullable = true)\n",
      " |-- sanitboro: integer (nullable = true)\n",
      " |-- sanitsub: string (nullable = true)\n",
      " |-- address: string (nullable = true)\n",
      " |-- zonedist1: string (nullable = true)\n",
      " |-- zonedist2: string (nullable = true)\n",
      " |-- zonedist3: string (nullable = true)\n",
      " |-- zonedist4: string (nullable = true)\n",
      " |-- overlay1: string (nullable = true)\n",
      " |-- overlay2: string (nullable = true)\n",
      " |-- spdist1: string (nullable = true)\n",
      " |-- spdist2: string (nullable = true)\n",
      " |-- spdist3: string (nullable = true)\n",
      " |-- ltdheight: string (nullable = true)\n",
      " |-- splitzone: string (nullable = true)\n",
      " |-- bldgclass: string (nullable = true)\n",
      " |-- landuse: integer (nullable = true)\n",
      " |-- easements: integer (nullable = true)\n",
      " |-- ownertype: string (nullable = true)\n",
      " |-- ownername: string (nullable = true)\n",
      " |-- lotarea: string (nullable = true)\n",
      " |-- bldgarea: double (nullable = true)\n",
      " |-- comarea: integer (nullable = true)\n",
      " |-- resarea: integer (nullable = true)\n",
      " |-- officearea: integer (nullable = true)\n",
      " |-- retailarea: integer (nullable = true)\n",
      " |-- garagearea: integer (nullable = true)\n",
      " |-- strgearea: integer (nullable = true)\n",
      " |-- factryarea: integer (nullable = true)\n",
      " |-- otherarea: integer (nullable = true)\n",
      " |-- areasource: integer (nullable = true)\n",
      " |-- numbldgs: integer (nullable = true)\n",
      " |-- numfloors: double (nullable = true)\n",
      " |-- unitsres: integer (nullable = true)\n",
      " |-- unitstotal: integer (nullable = true)\n",
      " |-- lotfront: double (nullable = true)\n",
      " |-- lotdepth: double (nullable = true)\n",
      " |-- bldgfront: double (nullable = true)\n",
      " |-- bldgdepth: double (nullable = true)\n",
      " |-- ext: string (nullable = true)\n",
      " |-- proxcode: string (nullable = true)\n",
      " |-- irrlotcode: string (nullable = true)\n",
      " |-- lottype: string (nullable = true)\n",
      " |-- bsmtcode: integer (nullable = true)\n",
      " |-- assessland: long (nullable = true)\n",
      " |-- assesstot: long (nullable = true)\n",
      " |-- exempttot: long (nullable = true)\n",
      " |-- yearbuilt: integer (nullable = true)\n",
      " |-- yearalter1: integer (nullable = true)\n",
      " |-- yearalter2: integer (nullable = true)\n",
      " |-- histdist: string (nullable = true)\n",
      " |-- landmark: string (nullable = true)\n",
      " |-- builtfar: double (nullable = true)\n",
      " |-- residfar: double (nullable = true)\n",
      " |-- commfar: double (nullable = true)\n",
      " |-- facilfar: double (nullable = true)\n",
      " |-- borocode: double (nullable = true)\n",
      " |-- bbl: long (nullable = true)\n",
      " |-- condono: long (nullable = true)\n",
      " |-- tract2010: integer (nullable = true)\n",
      " |-- xcoord: integer (nullable = true)\n",
      " |-- ycoord: string (nullable = true)\n",
      " |-- zonemap: string (nullable = true)\n",
      " |-- zmcode: string (nullable = true)\n",
      " |-- sanborn: string (nullable = true)\n",
      " |-- taxmap: string (nullable = true)\n",
      " |-- edesignum: string (nullable = true)\n",
      " |-- appbbl: long (nullable = true)\n",
      " |-- appdate: string (nullable = true)\n",
      " |-- mappluto_f: string (nullable = true)\n",
      " |-- plutomapid: integer (nullable = true)\n",
      " |-- version: string (nullable = true)\n",
      " |-- sanitdistrict: string (nullable = true)\n",
      " |-- healthcenterdistrict: integer (nullable = true)\n",
      " |-- firm07_flag: integer (nullable = true)\n",
      " |-- pfirm15_flag: integer (nullable = true)\n",
      " |-- rpaddate: string (nullable = true)\n",
      " |-- dcasdate: string (nullable = true)\n",
      " |-- zoningdate: string (nullable = true)\n",
      " |-- landmkdate: string (nullable = true)\n",
      " |-- basempdate: string (nullable = true)\n",
      " |-- masdate: string (nullable = true)\n",
      " |-- polidate: string (nullable = true)\n",
      " |-- edesigdate: string (nullable = true)\n",
      " |-- geom: string (nullable = true)\n",
      "\n"
     ]
    }
   ],
   "source": [
    "df.printSchema()"
   ]
  },
  {
   "cell_type": "code",
   "execution_count": 5,
   "metadata": {},
   "outputs": [
    {
     "name": "stdout",
     "output_type": "stream",
     "text": [
      "+---------+--------------------+\n",
      "|ownertype|           ownername|\n",
      "+---------+--------------------+\n",
      "|     null|       LOUFF ANTHONY|\n",
      "|     null|       ANDRON EDWARD|\n",
      "|     null|      TOTH, ANDREW M|\n",
      "|     null|WINTER, TRUSTEE, ...|\n",
      "|     null|      WONG, MARCIO R|\n",
      "|     null|      DENNIS HEEDLES|\n",
      "|     null|JARAMILLO, FRANKL...|\n",
      "|     null|        SMITH, QUAIL|\n",
      "|     null|     LEVOYER, THOMAS|\n",
      "|     null|       JOSE V LOAIZA|\n",
      "|     null|     GUL ESTATES INC|\n",
      "|     null|      JOHN A ABRAHAM|\n",
      "|     null|         KOTI, BERTI|\n",
      "|     null| 368 92ND STREET LLC|\n",
      "|     null|ANTHONY P FIORENTINO|\n",
      "|     null|    JOSEPH, JENNIFER|\n",
      "|     null|                null|\n",
      "|     null|        RAIA, THOMAS|\n",
      "|     null|        BERQUIN JUDE|\n",
      "|     null|   NICOLEAU, MARIE N|\n",
      "+---------+--------------------+\n",
      "only showing top 20 rows\n",
      "\n"
     ]
    }
   ],
   "source": [
    "df.select('ownertype', 'ownername').show()"
   ]
  },
  {
   "cell_type": "code",
   "execution_count": 8,
   "metadata": {},
   "outputs": [
    {
     "name": "stdout",
     "output_type": "stream",
     "text": [
      "+-------+------------------+\n",
      "|summary|         yearbuilt|\n",
      "+-------+------------------+\n",
      "|  count|            860665|\n",
      "|   mean|1819.4073315401463|\n",
      "| stddev| 472.8617138900757|\n",
      "|    min|                 0|\n",
      "|    max|             39330|\n",
      "+-------+------------------+\n",
      "\n"
     ]
    }
   ],
   "source": [
    "df.describe('yearbuilt').show()"
   ]
  },
  {
   "cell_type": "code",
   "execution_count": 11,
   "metadata": {},
   "outputs": [
    {
     "name": "stdout",
     "output_type": "stream",
     "text": [
      "+--------------------+\n",
      "|           ownername|\n",
      "+--------------------+\n",
      "|    GRINBERG, LEONID|\n",
      "|  LU, ALLEN CHUN HUA|\n",
      "|   PETRUNGARO, FRANK|\n",
      "|     IRINA SKUTELSKY|\n",
      "|      DIAMANT, MOSHE|\n",
      "|150TH STREET PARK...|\n",
      "|          WANG , XIN|\n",
      "|HORACE HARDING RE...|\n",
      "|   UNAVAILABLE OWNER|\n",
      "|       WANG , MINYAO|\n",
      "|     HILARIO, JUAN B|\n",
      "|PARAMOUNT PROPERT...|\n",
      "|         METRY, EMAD|\n",
      "|PRESENTATION SIST...|\n",
      "|        SI TESSA LLC|\n",
      "|        DINI, GERARD|\n",
      "|HAMDEN ASSOCIATES...|\n",
      "|     CATELLA, DANIEL|\n",
      "|  BENEDETTO , THOMAS|\n",
      "|    LEONARD PORTUESE|\n",
      "+--------------------+\n",
      "only showing top 20 rows\n",
      "\n"
     ]
    }
   ],
   "source": [
    "df.filter(df.yearbuilt > 2000).select('ownername').show()"
   ]
  },
  {
   "cell_type": "code",
   "execution_count": 44,
   "metadata": {},
   "outputs": [
    {
     "name": "stdout",
     "output_type": "stream",
     "text": [
      "+--------------------+-------+---------+\n",
      "|           ownername|borough|yearbuilt|\n",
      "+--------------------+-------+---------+\n",
      "|GATEWAY CANTER PR...|     BK|     2019|\n",
      "| BUSHWICK LUXURY LLC|     BK|     2018|\n",
      "|       MAPLE NYC LLC|     BK|     2016|\n",
      "|       JU XING ZHANG|     BK|     2011|\n",
      "|   971 LAFAYETTE LLC|     BK|     2014|\n",
      "|768 MACDONOUGH ST...|     BK|     2017|\n",
      "|11 ORIENT EXPRESS...|     BK|     2017|\n",
      "|       YOSHA, LAURIE|     BK|     2014|\n",
      "|    1627 PACIFIC LLC|     BK|     2016|\n",
      "|COMMUNITY CARES L...|     BK|     2017|\n",
      "|932 GRAND STREET LLC|     BK|     2019|\n",
      "|   214 ON STARR, LLC|     BK|     2012|\n",
      "|1462 ATLANTIC AVE...|     BK|     2018|\n",
      "|       LEE, HYUNSEOK|     BK|     2013|\n",
      "|  ASHLAND CENTER LLC|     BK|     2013|\n",
      "|   OCHER REALTY, LLC|     BK|     2019|\n",
      "|             NYC SCA|     BK|     2018|\n",
      "|730 64TH STREET C...|     BK|     2016|\n",
      "|367 VANDERVOORT A...|     BK|     2012|\n",
      "|SNL/ORIX 1200 MCD...|     BK|     2017|\n",
      "+--------------------+-------+---------+\n",
      "only showing top 20 rows\n",
      "\n"
     ]
    }
   ],
   "source": [
    "df.where((df.yearbuilt > 2010)&(df.borough == 'BK')).select('ownername', 'borough', 'yearbuilt').show()"
   ]
  },
  {
   "cell_type": "code",
   "execution_count": 19,
   "metadata": {},
   "outputs": [],
   "source": [
    "df.registerTempTable('pluto')"
   ]
  },
  {
   "cell_type": "code",
   "execution_count": 45,
   "metadata": {},
   "outputs": [],
   "source": [
    "from pyspark.sql import *\n",
    "sqlContext = SQLContext(sc)"
   ]
  },
  {
   "cell_type": "code",
   "execution_count": 46,
   "metadata": {},
   "outputs": [
    {
     "name": "stdout",
     "output_type": "stream",
     "text": [
      "+------------------+\n",
      "|    avg(yearbuilt)|\n",
      "+------------------+\n",
      "|1819.4073315401463|\n",
      "+------------------+\n",
      "\n"
     ]
    }
   ],
   "source": [
    "sqlContext.sql('select mean(yearbuilt) from pluto').show()"
   ]
  },
  {
   "cell_type": "code",
   "execution_count": 49,
   "metadata": {},
   "outputs": [
    {
     "name": "stdout",
     "output_type": "stream",
     "text": [
      "+---------+-----+\n",
      "|bldgclass|count|\n",
      "+---------+-----+\n",
      "|       Z9| 2253|\n",
      "|       RG|  300|\n",
      "|       C6| 3281|\n",
      "|       U0|   86|\n",
      "|       A9|22753|\n",
      "|       Q7|   28|\n",
      "|       V7|   38|\n",
      "|       H6|   26|\n",
      "|       D7| 2119|\n",
      "|       R6|  619|\n",
      "|       D5|  305|\n",
      "|       U2|  214|\n",
      "|       W6|  173|\n",
      "|       V3|  201|\n",
      "|       F2|   83|\n",
      "|       R8|   11|\n",
      "|       Z4|   70|\n",
      "|       A6|  813|\n",
      "|       RA|   20|\n",
      "|       K8|   49|\n",
      "+---------+-----+\n",
      "only showing top 20 rows\n",
      "\n"
     ]
    }
   ],
   "source": [
    "df.groupby('bldgclass')\\\n",
    ".count()\\\n",
    ".show()"
   ]
  },
  {
   "cell_type": "code",
   "execution_count": 54,
   "metadata": {},
   "outputs": [
    {
     "name": "stdout",
     "output_type": "stream",
     "text": [
      "+--------------------+---------+\n",
      "|           ownername|yearbuilt|\n",
      "+--------------------+---------+\n",
      "|\"SPIRO \"\"SPEROS\"\"...|    39330|\n",
      "|LEGION STREET HOL...|     2019|\n",
      "|    VERNON 4640, LLC|     2019|\n",
      "| NATHAN HOLDINGS LLC|     2019|\n",
      "|   OCHER REALTY, LLC|     2019|\n",
      "|STAGG WILLIAMSBUR...|     2019|\n",
      "|131 DEVOE STREET LLC|     2019|\n",
      "|885 LAND COMPANY,...|     2019|\n",
      "|GATEWAY CANTER PR...|     2019|\n",
      "|653 METROPOLITAN ...|     2019|\n",
      "|GATEWAY CANTER PR...|     2019|\n",
      "|GATEWAY CANTER PR...|     2019|\n",
      "|      1000 UNION LLC|     2019|\n",
      "|GATEWAY CANTER PR...|     2019|\n",
      "|GATEWAY CANTER PR...|     2019|\n",
      "|WA HIGH INVESTOR LLC|     2019|\n",
      "|GATEWAY CANTER PR...|     2019|\n",
      "|     4MB 2021 W6 LLC|     2019|\n",
      "|GATEWAY CANTER PR...|     2019|\n",
      "|GATEWAY CANTER PR...|     2019|\n",
      "+--------------------+---------+\n",
      "only showing top 20 rows\n",
      "\n"
     ]
    }
   ],
   "source": [
    "df.sort((df.yearbuilt).desc()).select('ownername', 'yearbuilt').show()"
   ]
  },
  {
   "cell_type": "code",
   "execution_count": null,
   "metadata": {},
   "outputs": [],
   "source": []
  }
 ],
 "metadata": {
  "kernelspec": {
   "display_name": "Python 3",
   "language": "python",
   "name": "python3"
  },
  "language_info": {
   "codemirror_mode": {
    "name": "ipython",
    "version": 3
   },
   "file_extension": ".py",
   "mimetype": "text/x-python",
   "name": "python",
   "nbconvert_exporter": "python",
   "pygments_lexer": "ipython3",
   "version": "3.7.3"
  }
 },
 "nbformat": 4,
 "nbformat_minor": 2
}
