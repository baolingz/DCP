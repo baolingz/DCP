{
 "cells": [
  {
   "cell_type": "code",
   "execution_count": 1,
   "metadata": {},
   "outputs": [],
   "source": [
    "import pandas as pd\n",
    "import numpy as np\n",
    "import matplotlib.pyplot as plt\n",
    "import seaborn as sns"
   ]
  },
  {
   "cell_type": "code",
   "execution_count": 2,
   "metadata": {},
   "outputs": [],
   "source": [
    "df = pd.read_excel('PLUTO subset CUNY data challenge.xlsx')"
   ]
  },
  {
   "cell_type": "code",
   "execution_count": 3,
   "metadata": {},
   "outputs": [
    {
     "data": {
      "text/html": [
       "<div>\n",
       "<style scoped>\n",
       "    .dataframe tbody tr th:only-of-type {\n",
       "        vertical-align: middle;\n",
       "    }\n",
       "\n",
       "    .dataframe tbody tr th {\n",
       "        vertical-align: top;\n",
       "    }\n",
       "\n",
       "    .dataframe thead th {\n",
       "        text-align: right;\n",
       "    }\n",
       "</style>\n",
       "<table border=\"1\" class=\"dataframe\">\n",
       "  <thead>\n",
       "    <tr style=\"text-align: right;\">\n",
       "      <th></th>\n",
       "      <th>borough</th>\n",
       "      <th>block</th>\n",
       "      <th>lot</th>\n",
       "      <th>cd</th>\n",
       "      <th>ct2010</th>\n",
       "      <th>cb2010</th>\n",
       "      <th>schooldist</th>\n",
       "      <th>council</th>\n",
       "      <th>zipcode</th>\n",
       "      <th>firecomp</th>\n",
       "      <th>...</th>\n",
       "      <th>pfirm15_flag</th>\n",
       "      <th>rpaddate</th>\n",
       "      <th>dcasdate</th>\n",
       "      <th>zoningdate</th>\n",
       "      <th>landmkdate</th>\n",
       "      <th>basempdate</th>\n",
       "      <th>masdate</th>\n",
       "      <th>polidate</th>\n",
       "      <th>edesigdate</th>\n",
       "      <th>geom</th>\n",
       "    </tr>\n",
       "  </thead>\n",
       "  <tbody>\n",
       "    <tr>\n",
       "      <th>0</th>\n",
       "      <td>BK</td>\n",
       "      <td>8720</td>\n",
       "      <td>2219</td>\n",
       "      <td>NaN</td>\n",
       "      <td>0.00</td>\n",
       "      <td>NaN</td>\n",
       "      <td>NaN</td>\n",
       "      <td>NaN</td>\n",
       "      <td>NaN</td>\n",
       "      <td>NaN</td>\n",
       "      <td>...</td>\n",
       "      <td>NaN</td>\n",
       "      <td>2019-07-06</td>\n",
       "      <td>2018-10-25</td>\n",
       "      <td>2019-07-29</td>\n",
       "      <td>2019-07-05</td>\n",
       "      <td>2019-07-26</td>\n",
       "      <td>NaN</td>\n",
       "      <td>NaN</td>\n",
       "      <td>2019-05-31</td>\n",
       "      <td>NaN</td>\n",
       "    </tr>\n",
       "    <tr>\n",
       "      <th>1</th>\n",
       "      <td>QN</td>\n",
       "      <td>7781</td>\n",
       "      <td>30</td>\n",
       "      <td>411.0</td>\n",
       "      <td>1291.02</td>\n",
       "      <td>1011.0</td>\n",
       "      <td>26.0</td>\n",
       "      <td>23.0</td>\n",
       "      <td>11427.0</td>\n",
       "      <td>E301</td>\n",
       "      <td>...</td>\n",
       "      <td>NaN</td>\n",
       "      <td>2019-07-06</td>\n",
       "      <td>2018-10-25</td>\n",
       "      <td>2019-07-29</td>\n",
       "      <td>2019-07-05</td>\n",
       "      <td>2019-07-26</td>\n",
       "      <td>NaN</td>\n",
       "      <td>NaN</td>\n",
       "      <td>2019-05-31</td>\n",
       "      <td>0106000020E61000000100000001030000000100000006...</td>\n",
       "    </tr>\n",
       "    <tr>\n",
       "      <th>2</th>\n",
       "      <td>QN</td>\n",
       "      <td>7794</td>\n",
       "      <td>436</td>\n",
       "      <td>411.0</td>\n",
       "      <td>1291.02</td>\n",
       "      <td>1000.0</td>\n",
       "      <td>26.0</td>\n",
       "      <td>23.0</td>\n",
       "      <td>11427.0</td>\n",
       "      <td>E326</td>\n",
       "      <td>...</td>\n",
       "      <td>NaN</td>\n",
       "      <td>2019-07-06</td>\n",
       "      <td>2018-10-25</td>\n",
       "      <td>2019-07-29</td>\n",
       "      <td>2019-07-05</td>\n",
       "      <td>2019-07-26</td>\n",
       "      <td>NaN</td>\n",
       "      <td>NaN</td>\n",
       "      <td>2019-05-31</td>\n",
       "      <td>0106000020E61000000100000001030000000100000006...</td>\n",
       "    </tr>\n",
       "    <tr>\n",
       "      <th>3</th>\n",
       "      <td>QN</td>\n",
       "      <td>7810</td>\n",
       "      <td>30</td>\n",
       "      <td>411.0</td>\n",
       "      <td>1291.02</td>\n",
       "      <td>3000.0</td>\n",
       "      <td>26.0</td>\n",
       "      <td>23.0</td>\n",
       "      <td>11427.0</td>\n",
       "      <td>E326</td>\n",
       "      <td>...</td>\n",
       "      <td>NaN</td>\n",
       "      <td>2019-07-06</td>\n",
       "      <td>2018-10-25</td>\n",
       "      <td>2019-07-29</td>\n",
       "      <td>2019-07-05</td>\n",
       "      <td>2019-07-26</td>\n",
       "      <td>NaN</td>\n",
       "      <td>NaN</td>\n",
       "      <td>2019-05-31</td>\n",
       "      <td>0106000020E61000000100000001030000000100000005...</td>\n",
       "    </tr>\n",
       "    <tr>\n",
       "      <th>4</th>\n",
       "      <td>QN</td>\n",
       "      <td>7816</td>\n",
       "      <td>48</td>\n",
       "      <td>411.0</td>\n",
       "      <td>1291.02</td>\n",
       "      <td>2009.0</td>\n",
       "      <td>26.0</td>\n",
       "      <td>23.0</td>\n",
       "      <td>11427.0</td>\n",
       "      <td>E301</td>\n",
       "      <td>...</td>\n",
       "      <td>NaN</td>\n",
       "      <td>2019-07-06</td>\n",
       "      <td>2018-10-25</td>\n",
       "      <td>2019-07-29</td>\n",
       "      <td>2019-07-05</td>\n",
       "      <td>2019-07-26</td>\n",
       "      <td>NaN</td>\n",
       "      <td>NaN</td>\n",
       "      <td>2019-05-31</td>\n",
       "      <td>0106000020E61000000100000001030000000100000005...</td>\n",
       "    </tr>\n",
       "  </tbody>\n",
       "</table>\n",
       "<p>5 rows × 96 columns</p>\n",
       "</div>"
      ],
      "text/plain": [
       "  borough  block   lot     cd   ct2010  cb2010  schooldist  council  zipcode  \\\n",
       "0      BK   8720  2219    NaN     0.00     NaN         NaN      NaN      NaN   \n",
       "1      QN   7781    30  411.0  1291.02  1011.0        26.0     23.0  11427.0   \n",
       "2      QN   7794   436  411.0  1291.02  1000.0        26.0     23.0  11427.0   \n",
       "3      QN   7810    30  411.0  1291.02  3000.0        26.0     23.0  11427.0   \n",
       "4      QN   7816    48  411.0  1291.02  2009.0        26.0     23.0  11427.0   \n",
       "\n",
       "  firecomp  ...  pfirm15_flag   rpaddate   dcasdate zoningdate landmkdate  \\\n",
       "0      NaN  ...           NaN 2019-07-06 2018-10-25 2019-07-29 2019-07-05   \n",
       "1     E301  ...           NaN 2019-07-06 2018-10-25 2019-07-29 2019-07-05   \n",
       "2     E326  ...           NaN 2019-07-06 2018-10-25 2019-07-29 2019-07-05   \n",
       "3     E326  ...           NaN 2019-07-06 2018-10-25 2019-07-29 2019-07-05   \n",
       "4     E301  ...           NaN 2019-07-06 2018-10-25 2019-07-29 2019-07-05   \n",
       "\n",
       "  basempdate masdate polidate  edesigdate  \\\n",
       "0 2019-07-26     NaN      NaN  2019-05-31   \n",
       "1 2019-07-26     NaN      NaN  2019-05-31   \n",
       "2 2019-07-26     NaN      NaN  2019-05-31   \n",
       "3 2019-07-26     NaN      NaN  2019-05-31   \n",
       "4 2019-07-26     NaN      NaN  2019-05-31   \n",
       "\n",
       "                                                geom  \n",
       "0                                                NaN  \n",
       "1  0106000020E61000000100000001030000000100000006...  \n",
       "2  0106000020E61000000100000001030000000100000006...  \n",
       "3  0106000020E61000000100000001030000000100000005...  \n",
       "4  0106000020E61000000100000001030000000100000005...  \n",
       "\n",
       "[5 rows x 96 columns]"
      ]
     },
     "execution_count": 3,
     "metadata": {},
     "output_type": "execute_result"
    }
   ],
   "source": [
    "df.head()"
   ]
  },
  {
   "cell_type": "code",
   "execution_count": 4,
   "metadata": {},
   "outputs": [
    {
     "data": {
      "text/plain": [
       "(10000, 96)"
      ]
     },
     "execution_count": 4,
     "metadata": {},
     "output_type": "execute_result"
    }
   ],
   "source": [
    "df.shape"
   ]
  },
  {
   "cell_type": "markdown",
   "metadata": {},
   "source": [
    "#### What is the unique identifier in this dataset? \n",
    "bbl"
   ]
  },
  {
   "cell_type": "code",
   "execution_count": 5,
   "metadata": {},
   "outputs": [
    {
     "data": {
      "text/plain": [
       "bbl          10000\n",
       "geom          9965\n",
       "address       9871\n",
       "ownername     9660\n",
       "xcoord        9171\n",
       "dtype: int64"
      ]
     },
     "execution_count": 5,
     "metadata": {},
     "output_type": "execute_result"
    }
   ],
   "source": [
    "df.nunique().sort_values(ascending = False).head()"
   ]
  },
  {
   "cell_type": "markdown",
   "metadata": {},
   "source": [
    "#### Which record is the largest tax lot?  How many buildings are on this tax lot?\n",
    "The record with bbl as 4123190001 is the largest tax lot. No building is in this tax lot"
   ]
  },
  {
   "cell_type": "code",
   "execution_count": 6,
   "metadata": {},
   "outputs": [
    {
     "data": {
      "text/plain": [
       "5888    4123190001\n",
       "Name: bbl, dtype: int64"
      ]
     },
     "execution_count": 6,
     "metadata": {},
     "output_type": "execute_result"
    }
   ],
   "source": [
    "df[df.lotarea == df.lotarea.max()].bbl"
   ]
  },
  {
   "cell_type": "code",
   "execution_count": 7,
   "metadata": {},
   "outputs": [
    {
     "data": {
      "text/plain": [
       "5888    0.0\n",
       "Name: numbldgs, dtype: float64"
      ]
     },
     "execution_count": 7,
     "metadata": {},
     "output_type": "execute_result"
    }
   ],
   "source": [
    "df[df.lotarea == df.lotarea.max()].numbldgs"
   ]
  },
  {
   "cell_type": "markdown",
   "metadata": {},
   "source": [
    "#### How many unique building classes are in this dataset?\n",
    "143"
   ]
  },
  {
   "cell_type": "code",
   "execution_count": 8,
   "metadata": {},
   "outputs": [
    {
     "data": {
      "text/plain": [
       "143"
      ]
     },
     "execution_count": 8,
     "metadata": {},
     "output_type": "execute_result"
    }
   ],
   "source": [
    "df.bldgclass.nunique()"
   ]
  },
  {
   "cell_type": "markdown",
   "metadata": {},
   "source": [
    "#### What is the most frequent land use type?\n",
    "01"
   ]
  },
  {
   "cell_type": "code",
   "execution_count": 9,
   "metadata": {},
   "outputs": [
    {
     "data": {
      "text/plain": [
       "landuse\n",
       "1.0     7036\n",
       "2.0     1323\n",
       "3.0      104\n",
       "4.0      406\n",
       "5.0      174\n",
       "6.0       78\n",
       "7.0       80\n",
       "8.0       90\n",
       "9.0       42\n",
       "10.0      84\n",
       "11.0     554\n",
       "Name: landuse, dtype: int64"
      ]
     },
     "execution_count": 9,
     "metadata": {},
     "output_type": "execute_result"
    }
   ],
   "source": [
    "df.groupby('landuse').landuse.count()"
   ]
  },
  {
   "cell_type": "markdown",
   "metadata": {},
   "source": [
    "#### What inconsistencies exist in this dataset?  List three. "
   ]
  },
  {
   "cell_type": "markdown",
   "metadata": {},
   "source": [
    "1. There are 25 records missing values in `numbldgs`, `lotfront` and `bldgfront`, which is abnormal when we look at the Missing value heatmap as a whole. Below are the list of records.\n",
    "2. There are 4 records having `yearalter2` earliear than `yearalter1`.\n",
    "3. There are 7 records having `yearalter1` earliear than `yearbuilt`.\n",
    "4. There are 2 records having `yearalter2` earliear than `yearbuilt`.\n",
    "5. There are 834 records having the sum of the various floor area fields bigger than `bldgarea`.\n",
    "6. By calculating the building FAR using bldgarea devided by lotarea, there are 3 records having `builtfar` different from the calulated building FAR by 10%"
   ]
  },
  {
   "cell_type": "code",
   "execution_count": 10,
   "metadata": {},
   "outputs": [
    {
     "data": {
      "text/plain": [
       "<matplotlib.axes._subplots.AxesSubplot at 0x7f1a39b0fda0>"
      ]
     },
     "execution_count": 10,
     "metadata": {},
     "output_type": "execute_result"
    },
    {
     "data": {
      "image/png": "[encoded data removed]",
      "text/plain": [
       "<Figure size 1080x1080 with 1 Axes>"
      ]
     },
     "metadata": {
      "needs_background": "light"
     },
     "output_type": "display_data"
    }
   ],
   "source": [
    "fig= plt.figure(figsize=(15,15))\n",
    "sns.heatmap(df.isnull(), cbar=False)"
   ]
  },
  {
   "cell_type": "markdown",
   "metadata": {},
   "source": [
    "1. There are 25 records missing values in `numbldgs`, `lotfront` and `bldgfront`, which is abnormal when we look at the Missing value heatmap as a whole. Below are the list of records."
   ]
  },
  {
   "cell_type": "code",
   "execution_count": 11,
   "metadata": {},
   "outputs": [
    {
     "data": {
      "text/plain": [
       "0       3087202219\n",
       "583     4050661892\n",
       "1115    3087202717\n",
       "1198    1009011017\n",
       "1402    3087201618\n",
       "1744    3000451166\n",
       "2946    3051071016\n",
       "3153    1009011039\n",
       "3171    3087202312\n",
       "3381    3033681129\n",
       "3524    1000169037\n",
       "4104    3087201750\n",
       "4464    3087202888\n",
       "4546    3087202523\n",
       "5060    3087201514\n",
       "5670    1006991411\n",
       "5762    3033681118\n",
       "5795    4050661932\n",
       "5906    4050661727\n",
       "6367    4050661743\n",
       "6529    1006991420\n",
       "7089    3000451055\n",
       "7571    4039161213\n",
       "9117    3087202118\n",
       "9927    1009011012\n",
       "Name: bbl, dtype: int64"
      ]
     },
     "execution_count": 11,
     "metadata": {},
     "output_type": "execute_result"
    }
   ],
   "source": [
    "df[(df.numbldgs.isnull()) & (df.lotfront.isnull()) & (df.bldgfront.isnull())].bbl"
   ]
  },
  {
   "cell_type": "markdown",
   "metadata": {},
   "source": [
    "2. There are 4 records having `yearalter2` earliear than `yearalter1`."
   ]
  },
  {
   "cell_type": "code",
   "execution_count": 12,
   "metadata": {},
   "outputs": [
    {
     "data": {
      "text/html": [
       "<div>\n",
       "<style scoped>\n",
       "    .dataframe tbody tr th:only-of-type {\n",
       "        vertical-align: middle;\n",
       "    }\n",
       "\n",
       "    .dataframe tbody tr th {\n",
       "        vertical-align: top;\n",
       "    }\n",
       "\n",
       "    .dataframe thead th {\n",
       "        text-align: right;\n",
       "    }\n",
       "</style>\n",
       "<table border=\"1\" class=\"dataframe\">\n",
       "  <thead>\n",
       "    <tr style=\"text-align: right;\">\n",
       "      <th></th>\n",
       "      <th>bbl</th>\n",
       "      <th>yearalter1</th>\n",
       "      <th>yearalter2</th>\n",
       "    </tr>\n",
       "  </thead>\n",
       "  <tbody>\n",
       "    <tr>\n",
       "      <th>4913</th>\n",
       "      <td>3006610032</td>\n",
       "      <td>2007</td>\n",
       "      <td>1999</td>\n",
       "    </tr>\n",
       "    <tr>\n",
       "      <th>6712</th>\n",
       "      <td>3051070091</td>\n",
       "      <td>2018</td>\n",
       "      <td>2017</td>\n",
       "    </tr>\n",
       "    <tr>\n",
       "      <th>8553</th>\n",
       "      <td>4050610010</td>\n",
       "      <td>2011</td>\n",
       "      <td>2009</td>\n",
       "    </tr>\n",
       "    <tr>\n",
       "      <th>9637</th>\n",
       "      <td>1005760010</td>\n",
       "      <td>2008</td>\n",
       "      <td>1995</td>\n",
       "    </tr>\n",
       "  </tbody>\n",
       "</table>\n",
       "</div>"
      ],
      "text/plain": [
       "             bbl  yearalter1  yearalter2\n",
       "4913  3006610032        2007        1999\n",
       "6712  3051070091        2018        2017\n",
       "8553  4050610010        2011        2009\n",
       "9637  1005760010        2008        1995"
      ]
     },
     "execution_count": 12,
     "metadata": {},
     "output_type": "execute_result"
    }
   ],
   "source": [
    "df[['bbl','yearalter1','yearalter2']][(df.yearalter1 > df.yearalter2) & df.yearalter2 != 0]"
   ]
  },
  {
   "cell_type": "markdown",
   "metadata": {},
   "source": [
    "3. There are 7 records having `yearalter1` earliear than `yearbuilt`."
   ]
  },
  {
   "cell_type": "code",
   "execution_count": 13,
   "metadata": {},
   "outputs": [
    {
     "data": {
      "text/html": [
       "<div>\n",
       "<style scoped>\n",
       "    .dataframe tbody tr th:only-of-type {\n",
       "        vertical-align: middle;\n",
       "    }\n",
       "\n",
       "    .dataframe tbody tr th {\n",
       "        vertical-align: top;\n",
       "    }\n",
       "\n",
       "    .dataframe thead th {\n",
       "        text-align: right;\n",
       "    }\n",
       "</style>\n",
       "<table border=\"1\" class=\"dataframe\">\n",
       "  <thead>\n",
       "    <tr style=\"text-align: right;\">\n",
       "      <th></th>\n",
       "      <th>bbl</th>\n",
       "      <th>yearbuilt</th>\n",
       "      <th>yearalter1</th>\n",
       "    </tr>\n",
       "  </thead>\n",
       "  <tbody>\n",
       "    <tr>\n",
       "      <th>1455</th>\n",
       "      <td>3015840009</td>\n",
       "      <td>2013</td>\n",
       "      <td>2011</td>\n",
       "    </tr>\n",
       "    <tr>\n",
       "      <th>2825</th>\n",
       "      <td>3031860048</td>\n",
       "      <td>2017</td>\n",
       "      <td>2015</td>\n",
       "    </tr>\n",
       "    <tr>\n",
       "      <th>3041</th>\n",
       "      <td>1002800051</td>\n",
       "      <td>2015</td>\n",
       "      <td>2013</td>\n",
       "    </tr>\n",
       "    <tr>\n",
       "      <th>3355</th>\n",
       "      <td>3018140015</td>\n",
       "      <td>2018</td>\n",
       "      <td>2017</td>\n",
       "    </tr>\n",
       "    <tr>\n",
       "      <th>6631</th>\n",
       "      <td>3032750039</td>\n",
       "      <td>2017</td>\n",
       "      <td>2015</td>\n",
       "    </tr>\n",
       "    <tr>\n",
       "      <th>8040</th>\n",
       "      <td>3044520355</td>\n",
       "      <td>2016</td>\n",
       "      <td>2013</td>\n",
       "    </tr>\n",
       "    <tr>\n",
       "      <th>9571</th>\n",
       "      <td>2045390016</td>\n",
       "      <td>2018</td>\n",
       "      <td>2017</td>\n",
       "    </tr>\n",
       "  </tbody>\n",
       "</table>\n",
       "</div>"
      ],
      "text/plain": [
       "             bbl  yearbuilt  yearalter1\n",
       "1455  3015840009       2013        2011\n",
       "2825  3031860048       2017        2015\n",
       "3041  1002800051       2015        2013\n",
       "3355  3018140015       2018        2017\n",
       "6631  3032750039       2017        2015\n",
       "8040  3044520355       2016        2013\n",
       "9571  2045390016       2018        2017"
      ]
     },
     "execution_count": 13,
     "metadata": {},
     "output_type": "execute_result"
    }
   ],
   "source": [
    "df[['bbl','yearbuilt','yearalter1']][(df.yearbuilt > df.yearalter1) & df.yearalter1 != 0]"
   ]
  },
  {
   "cell_type": "markdown",
   "metadata": {},
   "source": [
    "4. There are 2 records having `yearalter2` earliear than `yearbuilt`."
   ]
  },
  {
   "cell_type": "code",
   "execution_count": 14,
   "metadata": {},
   "outputs": [
    {
     "data": {
      "text/html": [
       "<div>\n",
       "<style scoped>\n",
       "    .dataframe tbody tr th:only-of-type {\n",
       "        vertical-align: middle;\n",
       "    }\n",
       "\n",
       "    .dataframe tbody tr th {\n",
       "        vertical-align: top;\n",
       "    }\n",
       "\n",
       "    .dataframe thead th {\n",
       "        text-align: right;\n",
       "    }\n",
       "</style>\n",
       "<table border=\"1\" class=\"dataframe\">\n",
       "  <thead>\n",
       "    <tr style=\"text-align: right;\">\n",
       "      <th></th>\n",
       "      <th>bbl</th>\n",
       "      <th>yearbuilt</th>\n",
       "      <th>yearalter2</th>\n",
       "    </tr>\n",
       "  </thead>\n",
       "  <tbody>\n",
       "    <tr>\n",
       "      <th>6712</th>\n",
       "      <td>3051070091</td>\n",
       "      <td>2018</td>\n",
       "      <td>2017</td>\n",
       "    </tr>\n",
       "    <tr>\n",
       "      <th>9549</th>\n",
       "      <td>3017710011</td>\n",
       "      <td>2016</td>\n",
       "      <td>2015</td>\n",
       "    </tr>\n",
       "  </tbody>\n",
       "</table>\n",
       "</div>"
      ],
      "text/plain": [
       "             bbl  yearbuilt  yearalter2\n",
       "6712  3051070091       2018        2017\n",
       "9549  3017710011       2016        2015"
      ]
     },
     "execution_count": 14,
     "metadata": {},
     "output_type": "execute_result"
    }
   ],
   "source": [
    "df[['bbl','yearbuilt','yearalter2']][(df.yearbuilt > df.yearalter2) & df.yearalter2 != 0]"
   ]
  },
  {
   "cell_type": "markdown",
   "metadata": {},
   "source": [
    "5. There are 834 records having the sum of the various floor area fields bigger than `bldgarea`."
   ]
  },
  {
   "cell_type": "code",
   "execution_count": 15,
   "metadata": {},
   "outputs": [],
   "source": [
    "df['cal_bldgarea'] = df.comarea + df.resarea + df.officearea + \\\n",
    "                    df.retailarea + df.garagearea + df.strgearea + \\\n",
    "                    df.factryarea + df.otherarea"
   ]
  },
  {
   "cell_type": "code",
   "execution_count": 16,
   "metadata": {},
   "outputs": [
    {
     "data": {
      "text/plain": [
       "834"
      ]
     },
     "execution_count": 16,
     "metadata": {},
     "output_type": "execute_result"
    }
   ],
   "source": [
    "df.bbl[df.bldgarea < df.cal_bldgarea].count()"
   ]
  },
  {
   "cell_type": "markdown",
   "metadata": {},
   "source": [
    "6. By calculating the building FAR using `bldgarea` devided by `lotarea`, there are 3 records having `builtfar` different from the calulated building FAR by 10%"
   ]
  },
  {
   "cell_type": "code",
   "execution_count": 17,
   "metadata": {},
   "outputs": [],
   "source": [
    "df['cal_builtfar'] = round(df.bldgarea/df.lotarea,5)"
   ]
  },
  {
   "cell_type": "code",
   "execution_count": 18,
   "metadata": {},
   "outputs": [
    {
     "data": {
      "text/html": [
       "<div>\n",
       "<style scoped>\n",
       "    .dataframe tbody tr th:only-of-type {\n",
       "        vertical-align: middle;\n",
       "    }\n",
       "\n",
       "    .dataframe tbody tr th {\n",
       "        vertical-align: top;\n",
       "    }\n",
       "\n",
       "    .dataframe thead th {\n",
       "        text-align: right;\n",
       "    }\n",
       "</style>\n",
       "<table border=\"1\" class=\"dataframe\">\n",
       "  <thead>\n",
       "    <tr style=\"text-align: right;\">\n",
       "      <th></th>\n",
       "      <th>bbl</th>\n",
       "      <th>builtfar</th>\n",
       "      <th>cal_builtfar</th>\n",
       "    </tr>\n",
       "  </thead>\n",
       "  <tbody>\n",
       "    <tr>\n",
       "      <th>112</th>\n",
       "      <td>2045420200</td>\n",
       "      <td>0.01</td>\n",
       "      <td>0.00585</td>\n",
       "    </tr>\n",
       "    <tr>\n",
       "      <th>8172</th>\n",
       "      <td>5056640028</td>\n",
       "      <td>0.01</td>\n",
       "      <td>0.01387</td>\n",
       "    </tr>\n",
       "    <tr>\n",
       "      <th>9418</th>\n",
       "      <td>2056480206</td>\n",
       "      <td>0.02</td>\n",
       "      <td>0.02439</td>\n",
       "    </tr>\n",
       "  </tbody>\n",
       "</table>\n",
       "</div>"
      ],
      "text/plain": [
       "             bbl  builtfar  cal_builtfar\n",
       "112   2045420200      0.01       0.00585\n",
       "8172  5056640028      0.01       0.01387\n",
       "9418  2056480206      0.02       0.02439"
      ]
     },
     "execution_count": 18,
     "metadata": {},
     "output_type": "execute_result"
    }
   ],
   "source": [
    "df[abs(df.cal_builtfar - df.builtfar)/df.builtfar > 0.1][['bbl','builtfar', 'cal_builtfar']]"
   ]
  },
  {
   "cell_type": "code",
   "execution_count": null,
   "metadata": {},
   "outputs": [],
   "source": []
  }
 ],
 "metadata": {
  "kernelspec": {
   "display_name": "Python 3",
   "language": "python",
   "name": "python3"
  },
  "language_info": {
   "codemirror_mode": {
    "name": "ipython",
    "version": 3
   },
   "file_extension": ".py",
   "mimetype": "text/x-python",
   "name": "python",
   "nbconvert_exporter": "python",
   "pygments_lexer": "ipython3",
   "version": "3.7.3"
  }
 },
 "nbformat": 4,
 "nbformat_minor": 2
}
